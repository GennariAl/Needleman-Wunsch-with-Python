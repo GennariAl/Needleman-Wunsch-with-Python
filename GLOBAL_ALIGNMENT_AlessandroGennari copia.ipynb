{
 "cells": [
  {
   "attachments": {},
   "cell_type": "markdown",
   "metadata": {},
   "source": [
    "## Global alignment algorithms implementation\n",
    "Alessandro Gennari"
   ]
  },
  {
   "cell_type": "code",
   "execution_count": 1,
   "metadata": {},
   "outputs": [],
   "source": [
    "class typeException(Exception):\n",
    "    def __init__(self, msg):\n",
    "        print(msg)"
   ]
  },
  {
   "attachments": {},
   "cell_type": "markdown",
   "metadata": {},
   "source": [
    "## Needleman-Wunsch"
   ]
  },
  {
   "cell_type": "code",
   "execution_count": 11,
   "metadata": {},
   "outputs": [],
   "source": [
    "def global_needleman_wunsch(match_cost, mismatch_cost, gap_cost, seq1, seq2):\n",
    "    if isinstance(match_cost, int) == False or isinstance(match_cost, bool) == True:\n",
    "        raise typeException(str(type(match_cost))+' is not the expected type for the variable for match_cost')\n",
    "    if isinstance(mismatch_cost, int) == False or isinstance(mismatch_cost, bool) == True:\n",
    "        raise typeException(str(type(mismatch_cost))+' is not the expected type for the variable for mismatch_cost')\n",
    "    if isinstance(gap_cost, int) == False or isinstance(gap_cost, bool) == True:\n",
    "        raise typeException(str(type(gap_cost))+' is not the expected type for the variable for gap_cost')\n",
    "    if isinstance(seq1, str) == False:\n",
    "        raise typeException(str(type(seq1))+' is not the expected type for the variable for seq1')\n",
    "    if isinstance(seq2, str) == False:\n",
    "        raise typeException(str(type(seq2))+' is not the expected type for the variable for seq2')\n",
    "    if match_cost <= mismatch_cost:\n",
    "        raise typeException('match_cost is <= than mismatch_cost!')\n",
    "\n",
    "    import numpy as np\n",
    "\n",
    "    scores = np.zeros((len(seq1)+1, len(seq2)+1))\n",
    "    directions = scores.copy()\n",
    "\n",
    "    # STEP 1 : Initialisation\n",
    "    for i in range(len(seq1)+1):    # rows\n",
    "        scores[i][0] = i * gap_cost\n",
    "    for j in range(len(seq2)+1):    # columns\n",
    "        scores[0][j] = j * gap_cost\n",
    "\n",
    "    # STEP 2 : Matrixes Filling\n",
    "    for i in range(1,len(seq1)+1):          # rows\n",
    "        for j in range(1,len(seq2)+1):      # columns\n",
    "            if seq1[i-1] == seq2[j-1]:\n",
    "                diag = scores[i-1][j-1] + match_cost\n",
    "            else:\n",
    "                diag = scores[i-1][j-1] + mismatch_cost\n",
    "            up = int(scores[i-1][j] + gap_cost)\n",
    "            left = int(scores[i][j-1] + gap_cost)\n",
    "            \n",
    "            # diag, up, left are the score for each situation, now I choose the max and fill the directions matrix\n",
    "            punteggi = np.array((diag, up, left))\n",
    "            scores[i][j] = np.max(punteggi)\n",
    "            directions[i][j] = np.argmax(punteggi)  # 0: diag, 1: up, 2: left\n",
    "\n",
    "    # STEP 3: Trace back\n",
    "    #print(f'{directions}\\n{scores}')\n",
    "    seq_ali_1 = ''\n",
    "    seq_ali_2 = ''\n",
    "    i = scores.shape[0]-1\n",
    "    j = scores.shape[1]-1\n",
    "\n",
    "    while (i > 0 and j > 0):\n",
    "        if directions[i][j] == 0:       # diag\n",
    "            seq_ali_1 = str(seq1[i-1]) + seq_ali_1\n",
    "            seq_ali_2 = str(seq2[j-1]) + seq_ali_2\n",
    "            j -= 1\n",
    "            i -= 1\n",
    "        elif directions[i][j] == 1:     # up\n",
    "            seq_ali_1 = str(seq1[i-1]) + seq_ali_1\n",
    "            seq_ali_2 = \"-\" + seq_ali_2 \n",
    "            i -= 1\n",
    "        elif directions[i][j] == 2:     # left\n",
    "            seq_ali_1 = \"-\" + seq_ali_1\n",
    "            seq_ali_2 = str(seq2[j-1]) + seq_ali_2\n",
    "            j -= 1\n",
    "\n",
    "    if (i == 0 and j != 0):       # meaning that seq2 starts with gaps\n",
    "        while (j > 0):\n",
    "            seq_ali_2 = \"-\" + seq_ali_2\n",
    "            j -= 1\n",
    "    if (j == 0 and i != 0):       # meaning that seq1 starts with gaps\n",
    "        while (i > 0):\n",
    "            seq_ali_1 = \"-\" + seq_ali_1\n",
    "            i -= 1\n",
    "    \n",
    "    alignment = [seq_ali_1, seq_ali_2]\n",
    "    return(alignment[0:2])"
   ]
  },
  {
   "attachments": {},
   "cell_type": "markdown",
   "metadata": {},
   "source": [
    "### TEST"
   ]
  },
  {
   "cell_type": "code",
   "execution_count": 29,
   "metadata": {},
   "outputs": [
    {
     "name": "stdout",
     "output_type": "stream",
     "text": [
      "8\n",
      "6\n",
      "--- 0.0016832351684570312 seconds ---\n",
      "\n",
      "ACGGTTGC\n",
      "A-GCGT-C\n"
     ]
    }
   ],
   "source": [
    "seq1 = 'CCTATACCTAATTTTCGGCGCATGAGCCGGAATGGTGGGTACCGCTCTAAGCCTCCTCATTCGAGCAGAACTAGGCCAACCCGGAGCCCTTCTGGGAGACGACCAAGTCTACAACGTGGTTGTCACGGCCCATGCCTTCGTAATAATCTTCTTTATAGTTATGCCGATTATAATCGGAGGATTCGGAAACTGACTAGTCCCCCTAATAATCGGAGCCCCAGACATAGCATTTCCGCGAATAAACAACATAAGCTTCTGACTACTCCCACCATCATTCCTCCTCCTCTTAGCATCCTCCACAGTGGAAGCAGGCGTAGGTACAGGCTGAACAGTGTATCCCCCACTAGCTGGCAACCTAGCTCATGCCGGGGCCTCAGTCGACCTCGCAATCTTCTCCTTACACCTAGCTGGTATTTCCTCAATCCTCGGAGCAATTAACTTCATTACAACAGCAATTAACATGAAACCTCCTGCCCTCTCACAATACCAAACCCCACTATTCGTCTGATCAGTGTTAATTACTGCAGTCCTCCTTCTCCTTTCCCTTCCAGTTCTAGCTGCAGGAATCACAATGCTCCTCACAGACCGCAACCTCAACACCACATTCTTCGACCCTGCCGGAGGAGGAGATCCCGTCCTATATCAACATCTCTTCTGATTCTTCGGCCACCCAGAAGTCTACATCCTAATCCTC'\n",
    "seq2 = 'GGAGACGACCAAATCTACAACGTAGTCGNCACGGCCCATGCTTCATGAGCTGGAATAGTAGGTACCGCCCTAAGCCTCCTAATTCGAGCAGAGCTAGGCCAACCCGGAGCCCTACTGTTGTAATAATCTTCTTCATAGTAATGCCAATCATAATCGGAGGGTTTGGAAACTGACTGGTCCCCCTAATAATTGGAGCTCCAGACATAGCATTCCCCCGAATAAACAACATGAGTTTCTGACTACTTCCCCCATCATTCCTACTACTAATAGCCTCCTCAACAGTAGAAGCAGGCGTTGGAACAGGATGAACCGTATATCCACCACTAGCCGGAAACCTAGCCCATGCAGGAGCCTCAGTAGACCTAGCTATCTTCTCCCTACACCTAGCAGGTATCTCCTCCATCCTAGGGGCAATCAACTTCATTACAACAGCAATCAACATAAAACCACCCGCCCTATCACAATACCAAACACCACTATTCGTATGATCCGTCCTAATCACAGCCGTACTACTCCTCCTATCACTCCCAGTGCTAGCTGCTGGAATTACCATGCTACTTACAGACCGCAACCTCAACACTACCTTCTTTGACCCAGCAGGGGGAGGAGACCCAGTGCTATACCAACATCTATTCTGATTCTTCGGACACCCAGAAGTTTACATCCTAATTCTC'\n",
    "seq1 = 'ACGGTTGC'\n",
    "seq2 = 'AGCGTC'\n",
    "print(len(seq1))\n",
    "print(len(seq2))\n",
    "\n",
    "import time\n",
    "start_time = time.time()\n",
    "a = global_needleman_wunsch(1,-1,-2, seq1, seq2)\n",
    "print(\"--- %s seconds ---\" % (time.time() - start_time))\n",
    "print(f'\\n{a[0]}\\n{a[1]}')\n"
   ]
  }
 ],
 "metadata": {
  "kernelspec": {
   "display_name": "Python 3",
   "language": "python",
   "name": "python3"
  },
  "language_info": {
   "codemirror_mode": {
    "name": "ipython",
    "version": 3
   },
   "file_extension": ".py",
   "mimetype": "text/x-python",
   "name": "python",
   "nbconvert_exporter": "python",
   "pygments_lexer": "ipython3",
   "version": "3.9.10"
  },
  "orig_nbformat": 4,
  "vscode": {
   "interpreter": {
    "hash": "aee8b7b246df8f9039afb4144a1f6fd8d2ca17a180786b69acc140d282b71a49"
   }
  }
 },
 "nbformat": 4,
 "nbformat_minor": 2
}
